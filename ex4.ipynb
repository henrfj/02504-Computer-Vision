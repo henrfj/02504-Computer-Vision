{
 "cells": [
  {
   "cell_type": "markdown",
   "metadata": {},
   "source": [
    "# Exercise 4 Camera calibration \n",
    "\n",
    "In this exercise we will look at:\n",
    "- Direct linear transform (DLT), linear algorithm for camera calibration and\n",
    "- Checkerboard calibration, and bundle adjustment from Zhang (2000).\n",
    "\n",
    "You should be able to perform camera calibration using both methods."
   ]
  },
  {
   "cell_type": "code",
   "execution_count": 248,
   "metadata": {},
   "outputs": [],
   "source": [
    "from ex1 import box3d, projectpoints\n",
    "import matplotlib.pyplot as plt\n",
    "import math\n",
    "import numpy as np\n",
    "import cv2\n",
    "from scipy.spatial.transform import Rotation"
   ]
  },
  {
   "cell_type": "markdown",
   "metadata": {},
   "source": [
    "4.1 DLT"
   ]
  },
  {
   "cell_type": "code",
   "execution_count": 249,
   "metadata": {},
   "outputs": [
    {
     "data": {
      "text/plain": [
       "array([[1000,    0,  960],\n",
       "       [   0, 1000,  540],\n",
       "       [   0,    0,    1]])"
      ]
     },
     "execution_count": 249,
     "metadata": {},
     "output_type": "execute_result"
    }
   ],
   "source": [
    "# Pose matrices:\n",
    "R = np.array([[np.sqrt(0.5), -np.sqrt(0.5), 0], [np.sqrt(0.5), np.sqrt(0.5), 0], [0, 0, 1]])\n",
    "t = np.array([[0, 0, 10]]).T\n",
    "\n",
    "f = 1000\n",
    "dx = 1920//2\n",
    "dy = 1080//2\n",
    "K = np.array([[f, 0, dx], [0, f, dy], [0, 0, 1]])\n",
    "K"
   ]
  },
  {
   "cell_type": "code",
   "execution_count": 250,
   "metadata": {},
   "outputs": [
    {
     "data": {
      "text/plain": [
       "array([[0, 1, 0, 1, 0, 1, 0, 1],\n",
       "       [0, 0, 1, 1, 0, 0, 1, 1],\n",
       "       [0, 0, 0, 0, 1, 1, 1, 1]])"
      ]
     },
     "execution_count": 250,
     "metadata": {},
     "output_type": "execute_result"
    }
   ],
   "source": [
    "# Exact 3D points\n",
    "Q = np.array([[0, 1, 0, 1, 0, 1, 0, 1], [0, 0, 1, 1, 0, 0, 1, 1], [0, 0, 0, 0, 1, 1, 1, 1]])\n",
    "Q"
   ]
  },
  {
   "cell_type": "code",
   "execution_count": 252,
   "metadata": {},
   "outputs": [
    {
     "data": {
      "text/plain": [
       "array([[ 707, -707,  960, 9600],\n",
       "       [ 707,  707,  540, 5400],\n",
       "       [   0,    0,    1,   10]])"
      ]
     },
     "execution_count": 252,
     "metadata": {},
     "output_type": "execute_result"
    }
   ],
   "source": [
    "Pro = K@np.hstack((R, t))\n",
    "Pro.astype(int)"
   ]
  },
  {
   "cell_type": "code",
   "execution_count": 253,
   "metadata": {},
   "outputs": [],
   "source": [
    "Q_h = np.vstack((Q, np.ones(len(Q[0]))))"
   ]
  },
  {
   "cell_type": "code",
   "execution_count": 254,
   "metadata": {},
   "outputs": [
    {
     "name": "stdout",
     "output_type": "stream",
     "text": [
      "[960. 540.], [1030.71  610.71], [889.29 610.71], [960.   681.42], [960. 540.], [1024.28  604.28], [895.72 604.28], [960.   668.56], "
     ]
    }
   ],
   "source": [
    "q_h = Pro@Q_h\n",
    "q = q_h[0:2, :]/q_h[2, :]\n",
    "for i in range(len(q[0])):\n",
    "    print(np.round(q[:,i],2), end=\", \")"
   ]
  },
  {
   "cell_type": "markdown",
   "metadata": {},
   "source": [
    "#### 4.2 DLT: Use Q and q only to estimate P"
   ]
  },
  {
   "cell_type": "code",
   "execution_count": 255,
   "metadata": {},
   "outputs": [],
   "source": [
    "def crossop(q):\n",
    "    return np.array([[0, -q[2], q[1]], [q[2], 0, -q[0]], [-q[1], q[0], 0]])\n",
    "    \n",
    "def get_b(Q,q):\n",
    "    \"\"\"Calculates the B matrix by using kronecker multiplication and crossup.\"\"\"\n",
    "    B = np.kron(Q[:,0], crossop(q[:,0]))\n",
    "    for i in range(1,len(q[0])):\n",
    "        B_temp = np.kron(Q[:,i], crossop(q[:,i]))\n",
    "        B = np.vstack((B,B_temp))\n",
    "    return B\n",
    "\n",
    "B = get_b(Q_h, q_h)"
   ]
  },
  {
   "cell_type": "code",
   "execution_count": 256,
   "metadata": {},
   "outputs": [],
   "source": [
    "_,_,VT = np.linalg.svd(B.T@B) #U,S,VT = np.linalg.svd(A.T@A)\n",
    "# VT is sorted in descending order of singular value\n",
    "P =  VT[-1] # VT is flattened, P is a 3x4\n",
    "P = P.reshape((4,3)).T"
   ]
  },
  {
   "cell_type": "code",
   "execution_count": 257,
   "metadata": {},
   "outputs": [
    {
     "data": {
      "text/plain": [
       "array([[ 707, -707,  960, 9599],\n",
       "       [ 707,  707,  540, 5399],\n",
       "       [   0,    0,    1,   10]])"
      ]
     },
     "execution_count": 257,
     "metadata": {},
     "output_type": "execute_result"
    }
   ],
   "source": [
    "np.int32((P/P[-1, -1] * 10)) # Getting it on the same format as the original P"
   ]
  },
  {
   "cell_type": "code",
   "execution_count": 258,
   "metadata": {},
   "outputs": [
    {
     "data": {
      "text/plain": [
       "array([[ 707, -707,  960, 9600],\n",
       "       [ 707,  707,  540, 5400],\n",
       "       [   0,    0,    1,   10]])"
      ]
     },
     "execution_count": 258,
     "metadata": {},
     "output_type": "execute_result"
    }
   ],
   "source": [
    "Pro.astype(int)"
   ]
  },
  {
   "cell_type": "code",
   "execution_count": 259,
   "metadata": {},
   "outputs": [],
   "source": [
    "## Reproject the points Q: q_h = P@Q\n",
    "q_h_est = P@Q_h\n",
    "q_est = q_h_est[0:2, :]/q_h_est[2, :]"
   ]
  },
  {
   "cell_type": "code",
   "execution_count": 260,
   "metadata": {},
   "outputs": [
    {
     "name": "stdout",
     "output_type": "stream",
     "text": [
      "[960. 540.]\t[1030.71  610.71]\t[889.29 610.71]\t[960.   681.42]\t[960. 540.]\t[1024.28  604.28]\t[895.72 604.28]\t[960.   668.56]\t"
     ]
    }
   ],
   "source": [
    "for i in range(len(q[0])):\n",
    "    print(np.round(q_est[:,i],2), end=\"\\t\")"
   ]
  },
  {
   "cell_type": "code",
   "execution_count": 261,
   "metadata": {},
   "outputs": [
    {
     "data": {
      "text/plain": [
       "1.062121817141783e-08"
      ]
     },
     "execution_count": 261,
     "metadata": {},
     "output_type": "execute_result"
    }
   ],
   "source": [
    "np.linalg.norm(q_est-q)"
   ]
  },
  {
   "cell_type": "markdown",
   "metadata": {},
   "source": [
    "#### Try normalizing before using SVD"
   ]
  },
  {
   "cell_type": "code",
   "execution_count": 262,
   "metadata": {},
   "outputs": [],
   "source": [
    "## What about normalizing points before using SVD?\n",
    "def normalize2d(Q):\n",
    "    mean = np.mean(Q,axis=1)\n",
    "    std = np.std(Q,axis=1)\n",
    "    T = np.array([[1/std[0],0,-mean[0]/std[0]],\n",
    "                  [0,1/std[1],-mean[1]/std[1]],\n",
    "                 [0,0,1]])\n",
    "    return [T@Q, T]"
   ]
  },
  {
   "cell_type": "markdown",
   "metadata": {},
   "source": [
    "Normalizing Q  before doing SVD for a more stable algorighm."
   ]
  },
  {
   "cell_type": "code",
   "execution_count": 263,
   "metadata": {},
   "outputs": [],
   "source": [
    "normed_points,T = normalize2d(q_h)\n",
    "B = get_b(Q_h, normed_points)\n",
    "_,_,VT = np.linalg.svd(B.T@B) #U,S,VT = np.linalg.svd(A.T@A)\n",
    "# VT is sorted in descending order of singular value\n",
    "P_norm =  VT[-1]\n",
    "P_norm = P_norm.reshape((4,3)).T # VT is flattened and transposed, P is a 3x4\n",
    "P_norm = np.linalg.inv(T)@P_norm # Turn back the normalization"
   ]
  },
  {
   "cell_type": "code",
   "execution_count": 264,
   "metadata": {},
   "outputs": [],
   "source": [
    "q_h_norm_est = P_norm@Q_h\n",
    "q_norm_est = q_h_norm_est[0:2, :]/q_h_norm_est[2, :]"
   ]
  },
  {
   "cell_type": "code",
   "execution_count": 271,
   "metadata": {},
   "outputs": [
    {
     "name": "stdout",
     "output_type": "stream",
     "text": [
      "Estimatet P, normalized\n",
      " [[ 707 -707  960 9600]\n",
      " [ 707  707  540 5400]\n",
      " [   0    0    1   10]]\n",
      "Estimated P, not normalized\n",
      " [[ 707 -707  960 9600]\n",
      " [ 707  707  540 5400]\n",
      " [   0    0    1   10]]\n",
      "Original P\n",
      " [[ 707 -707  960 9600]\n",
      " [ 707  707  540 5400]\n",
      " [   0    0    1   10]]\n"
     ]
    }
   ],
   "source": [
    "print(\"Estimatet P, normalized\\n\",np.int32(np.round((P_norm/P_norm[-1, -1] * 10),2)))\n",
    "print(\"Estimated P, not normalized\\n\",np.int32(np.round((P/P[-1, -1] * 10),2)))\n",
    "print(\"Original P\\n\",Pro.astype(int))"
   ]
  },
  {
   "cell_type": "code",
   "execution_count": 272,
   "metadata": {},
   "outputs": [
    {
     "name": "stdout",
     "output_type": "stream",
     "text": [
      "1.062121817141783e-08\n",
      "3.822212751818915e-08\n"
     ]
    }
   ],
   "source": [
    "print(np.linalg.norm(q_est-q))\n",
    "print(np.linalg.norm(q_norm_est-q))"
   ]
  },
  {
   "cell_type": "markdown",
   "metadata": {},
   "source": [
    "## Programming: Checkerboard calibration using Zhangs method\n",
    "\n",
    "Here we will prepare calibration with checkerboards. We do not yet have the ability to detect\n",
    "checkerboards, so for now we will define the points ourselves.\n",
    "\n",
    "#### 4.3 Define a checkerboard\n"
   ]
  },
  {
   "cell_type": "code",
   "execution_count": 155,
   "metadata": {},
   "outputs": [],
   "source": [
    "def checkerboard_points(n,m):\n",
    "    Q = np.zeros(shape=(3, m*n))\n",
    "    for i in range(n):\n",
    "        for j in range(m):\n",
    "            Q[:,i+j] = [i - (n-1)/2,\n",
    "                        j - (m-1)/2,\n",
    "                        0]\n",
    "                \n",
    "    return Q"
   ]
  },
  {
   "cell_type": "code",
   "execution_count": 161,
   "metadata": {},
   "outputs": [
    {
     "data": {
      "text/plain": [
       "(3, 64)"
      ]
     },
     "execution_count": 161,
     "metadata": {},
     "output_type": "execute_result"
    }
   ],
   "source": [
    "chessboard = checkerboard_points(8,8)\n",
    "chessboard.shape"
   ]
  },
  {
   "cell_type": "markdown",
   "metadata": {},
   "source": [
    "#### 4.4 Checkerboard corners\n",
    "\n",
    "```\n",
    "R = Rotation.from_euler('xyz', [θx, θy, θz]).as_matrix()\n",
    "```"
   ]
  },
  {
   "cell_type": "code",
   "execution_count": null,
   "metadata": {},
   "outputs": [],
   "source": [
    "from scipy.spatial.transform import Rotation\n"
   ]
  }
 ],
 "metadata": {
  "interpreter": {
   "hash": "becc7bcbb7a4199260879ba1a9630da63d2f52d521041d6c190802a5dc80d452"
  },
  "kernelspec": {
   "display_name": "Python 3.8.8 64-bit",
   "language": "python",
   "name": "python3"
  },
  "language_info": {
   "codemirror_mode": {
    "name": "ipython",
    "version": 3
   },
   "file_extension": ".py",
   "mimetype": "text/x-python",
   "name": "python",
   "nbconvert_exporter": "python",
   "pygments_lexer": "ipython3",
   "version": "3.8.8"
  },
  "orig_nbformat": 4
 },
 "nbformat": 4,
 "nbformat_minor": 2
}
