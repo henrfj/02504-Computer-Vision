{
 "cells": [
  {
   "cell_type": "markdown",
   "metadata": {},
   "source": [
    "# Exercise 4 Camera calibration \n",
    "\n",
    "In this exercise we will look at:\n",
    "- Direct linear transform (DLT), linear algorithm for camera calibration and\n",
    "- Checkerboard calibration, and bundle adjustment from Zhang (2000).\n",
    "\n",
    "You should be able to perform camera calibration using both methods."
   ]
  },
  {
   "cell_type": "code",
   "execution_count": 1,
   "metadata": {},
   "outputs": [],
   "source": [
    "from ex1 import box3d, projectpoints\n",
    "import matplotlib.pyplot as plt\n",
    "import math\n",
    "import numpy as np\n",
    "import cv2\n",
    "from scipy.spatial.transform import Rotation"
   ]
  },
  {
   "cell_type": "markdown",
   "metadata": {},
   "source": [
    "#### 4.1 DLT Direct linear transformation"
   ]
  },
  {
   "cell_type": "code",
   "execution_count": 2,
   "metadata": {},
   "outputs": [
    {
     "data": {
      "text/plain": [
       "array([[1000,    0,  960],\n",
       "       [   0, 1000,  540],\n",
       "       [   0,    0,    1]])"
      ]
     },
     "execution_count": 2,
     "metadata": {},
     "output_type": "execute_result"
    }
   ],
   "source": [
    "# Pose matrices:\n",
    "R = np.array([[np.sqrt(0.5), -np.sqrt(0.5), 0], [np.sqrt(0.5), np.sqrt(0.5), 0], [0, 0, 1]])\n",
    "t = np.array([[0, 0, 10]]).T\n",
    "\n",
    "f = 1000\n",
    "dx = 1920//2\n",
    "dy = 1080//2\n",
    "K = np.array([[f, 0, dx], [0, f, dy], [0, 0, 1]])\n",
    "K"
   ]
  },
  {
   "cell_type": "code",
   "execution_count": 3,
   "metadata": {},
   "outputs": [
    {
     "data": {
      "text/plain": [
       "array([[0, 1, 0, 1, 0, 1, 0, 1],\n",
       "       [0, 0, 1, 1, 0, 0, 1, 1],\n",
       "       [0, 0, 0, 0, 1, 1, 1, 1]])"
      ]
     },
     "execution_count": 3,
     "metadata": {},
     "output_type": "execute_result"
    }
   ],
   "source": [
    "# Exact 3D points\n",
    "Q = np.array([[0, 1, 0, 1, 0, 1, 0, 1], [0, 0, 1, 1, 0, 0, 1, 1], [0, 0, 0, 0, 1, 1, 1, 1]])\n",
    "Q"
   ]
  },
  {
   "cell_type": "code",
   "execution_count": 10,
   "metadata": {},
   "outputs": [
    {
     "data": {
      "text/plain": [
       "array([[ 707, -707,  960, 9600],\n",
       "       [ 707,  707,  540, 5400],\n",
       "       [   0,    0,    1,   10]])"
      ]
     },
     "execution_count": 10,
     "metadata": {},
     "output_type": "execute_result"
    }
   ],
   "source": [
    "P_exact = K@np.hstack((R, t))\n",
    "np.int32(P_exact)"
   ]
  },
  {
   "cell_type": "code",
   "execution_count": 11,
   "metadata": {},
   "outputs": [],
   "source": [
    "Q_h = np.vstack((Q, np.ones(len(Q[0]))))"
   ]
  },
  {
   "cell_type": "code",
   "execution_count": 13,
   "metadata": {},
   "outputs": [
    {
     "name": "stdout",
     "output_type": "stream",
     "text": [
      "[960. 540.], [1030.71  610.71], [889.29 610.71], [960.   681.42], [960. 540.], [1024.28  604.28], [895.72 604.28], [960.   668.56], "
     ]
    }
   ],
   "source": [
    "q_h = P_exact@Q_h\n",
    "q = q_h[0:2, :]/q_h[2, :]\n",
    "for i in range(len(q[0])):\n",
    "    print(np.round(q[:,i],2), end=\", \")"
   ]
  },
  {
   "cell_type": "markdown",
   "metadata": {},
   "source": [
    "#### 4.2 DLT\n",
    "\n",
    "1. Use Q and q to estimate Projection matrix.\n",
    "2. Normalize the points in Q before estimating Projection. "
   ]
  },
  {
   "cell_type": "code",
   "execution_count": 48,
   "metadata": {},
   "outputs": [],
   "source": [
    "def crossop(q):\n",
    "    return np.array([[0, -q[2], q[1]], [q[2], 0, -q[0]], [-q[1], q[0], 0]])\n",
    "    \n",
    "def get_b(Q,q):\n",
    "    \"\"\"Calculates the B matrix by using kronecker multiplication and crossup.\"\"\"\n",
    "    B = np.kron(Q[:,0], crossop(q[:,0]))\n",
    "    for i in range(1,len(q[0])):\n",
    "        B_temp = np.kron(Q[:,i], crossop(q[:,i]))\n",
    "        B = np.vstack((B,B_temp))\n",
    "    return B\n",
    "\n",
    "def normalize2d(Q):\n",
    "    mean = np.mean(Q,axis=1)\n",
    "    std = np.std(Q,axis=1)\n",
    "    T = np.array([[1/std[0],0,-mean[0]/std[0]],\n",
    "                  [0,1/std[1],-mean[1]/std[1]],\n",
    "                 [0,0,1]])\n",
    "    return [T@Q, T]\n",
    "\n",
    "def estimate_P(Q_h, q_h, normalize=False):\n",
    "    if normalize:\n",
    "        q_h, T = normalize2d(q_h)\n",
    "    B = get_b(Q_h, q_h)\n",
    "    _,_,VT = np.linalg.svd(B.T@B) #U,S,VT = np.linalg.svd(A.T@A)\n",
    "    # VT is sorted in descending order of singular value\n",
    "    P =  VT[-1] # VT is flattened, P is a 3x4\n",
    "    P = P.reshape((4,3)).T\n",
    "    if normalize:\n",
    "        P = np.linalg.inv(T)@P # Turn back the normalization\n",
    "    P = (P/P[-1, -1] * 10)\n",
    "    #print(np.int32(P)) # Getting it on the same format as the original P\n",
    "    return P\n",
    "\n",
    "def print_matrix(M):\n",
    "    print(\"[\", end=\"\")\n",
    "    for i in range(len(M)):\n",
    "        if i==0:\n",
    "            print(\"[\", end=\"\")\n",
    "        else:\n",
    "            print(\" [\", end=\"\")\n",
    "        for j in range(len(M[i])):\n",
    "            if j==len(M[i])-1:\n",
    "                print(np.round(M[i][j], 2), end= \"]\\n\")\n",
    "            else:\n",
    "                print(np.round(M[i][j], 2), end= \" \")"
   ]
  },
  {
   "cell_type": "code",
   "execution_count": 49,
   "metadata": {},
   "outputs": [],
   "source": [
    "P_est_1 = estimate_P(Q_h.copy(), q_h.copy(), normalize=False)\n",
    "P_est_2 = estimate_P(Q_h.copy(), q_h.copy(), normalize=True)"
   ]
  },
  {
   "cell_type": "code",
   "execution_count": 50,
   "metadata": {},
   "outputs": [
    {
     "name": "stdout",
     "output_type": "stream",
     "text": [
      "P_exact:\n",
      "[[707.11 -707.11 960.0 9600.0]\n",
      " [707.11 707.11 540.0 5400.0]\n",
      " [0.0 0.0 1.0 10.0]\n",
      "P estimated 1\n",
      "[[707.11 -707.11 960.0 9600.0]\n",
      " [707.11 707.11 540.0 5400.0]\n",
      " [-0.0 0.0 1.0 10.0]\n",
      "P estimated 2\n",
      "[[707.11 -707.11 960.0 9600.0]\n",
      " [707.11 707.11 540.0 5400.0]\n",
      " [0.0 -0.0 1.0 10.0]\n"
     ]
    }
   ],
   "source": [
    "print(\"P_exact:\")\n",
    "print_matrix(P_exact)\n",
    "print(\"P estimated 1\")\n",
    "print_matrix(P_est_1)\n",
    "print(\"P estimated 2\")\n",
    "print_matrix(P_est_2)"
   ]
  },
  {
   "cell_type": "code",
   "execution_count": 51,
   "metadata": {},
   "outputs": [],
   "source": [
    "\n",
    "# Recalculate points\n",
    "q_h_est_1 = P_est_1@Q_h\n",
    "q_h_est_2 = P_est_2@Q_h\n",
    "# Transform to nonhomogenous points\n",
    "q_est_1 = q_h_est_1[0:2, :]/q_h_est_1[2, :]\n",
    "q_est_2 = q_h_est_2[0:2, :]/q_h_est_2[2, :]"
   ]
  },
  {
   "cell_type": "code",
   "execution_count": 54,
   "metadata": {},
   "outputs": [
    {
     "name": "stdout",
     "output_type": "stream",
     "text": [
      "[960. 540.], [1030.71  610.71], [889.29 610.71], [960.   681.42], [960. 540.], [1024.28  604.28], [895.72 604.28], [960.   668.56], \n",
      "---------------------------------------------\n",
      "[960. 540.], [1030.71  610.71], [889.29 610.71], [960.   681.42], [960. 540.], [1024.28  604.28], [895.72 604.28], [960.   668.56], \n",
      "---------------------------------------------\n",
      "[960. 540.], [1030.71  610.71], [889.29 610.71], [960.   681.42], [960. 540.], [1024.28  604.28], [895.72 604.28], [960.   668.56], \n",
      "---------------------------------------------\n"
     ]
    }
   ],
   "source": [
    "for i in range(len(q[0])):\n",
    "    print(np.round(q[:,i],2), end=\", \")\n",
    "print(\"\\n---------------------------------------------\")\n",
    "for i in range(len(q[0])):\n",
    "    print(np.round(q_est_1[:,i],2), end=\", \")\n",
    "print(\"\\n---------------------------------------------\")\n",
    "for i in range(len(q[0])):\n",
    "    print(np.round(q_est_2[:,i],2), end=\", \")\n",
    "print(\"\\n---------------------------------------------\")\n"
   ]
  },
  {
   "cell_type": "code",
   "execution_count": 58,
   "metadata": {},
   "outputs": [
    {
     "name": "stdout",
     "output_type": "stream",
     "text": [
      "1.0621062761322725e-08\n",
      "3.8222027442951554e-08\n"
     ]
    }
   ],
   "source": [
    "print(np.linalg.norm(q_est_1-q))\n",
    "print(np.linalg.norm(q_est_2-q))"
   ]
  },
  {
   "cell_type": "markdown",
   "metadata": {},
   "source": [
    "## Programming: Checkerboard calibration using Zhangs method\n",
    "\n",
    "Here we will prepare calibration with checkerboards. We do not yet have the ability to detect\n",
    "checkerboards, so for now we will define the points ourselves.\n",
    "\n",
    "#### 4.3 Define a checkerboard\n"
   ]
  },
  {
   "cell_type": "code",
   "execution_count": 71,
   "metadata": {},
   "outputs": [],
   "source": [
    "def checkerboard_points(n,m):\n",
    "    Q = np.zeros(shape=(3, n*m))\n",
    "    for i in range(n):\n",
    "        for j in range(m):\n",
    "            Q[:, i*n+j] = [i - (n-1)/2.0,\n",
    "                        j - (m-1)/2.0,\n",
    "                        0]\n",
    "                \n",
    "    return Q"
   ]
  },
  {
   "cell_type": "code",
   "execution_count": 75,
   "metadata": {},
   "outputs": [
    {
     "data": {
      "text/plain": [
       "<matplotlib.collections.PathCollection at 0x22dce9bccd0>"
      ]
     },
     "execution_count": 75,
     "metadata": {},
     "output_type": "execute_result"
    },
    {
     "data": {
      "image/png": "[encoded data removed]",
      "text/plain": [
       "<Figure size 432x288 with 1 Axes>"
      ]
     },
     "metadata": {
      "needs_background": "light"
     },
     "output_type": "display_data"
    }
   ],
   "source": [
    "checkerboard = checkerboard_points(8,8)\n",
    "plt.scatter(checkerboard[0,:], checkerboard[1,:])"
   ]
  },
  {
   "cell_type": "markdown",
   "metadata": {},
   "source": [
    "#### 4.4 Checkerboard corners\n",
    "\n",
    "```\n",
    "R = Rotation.from_euler('xyz', [θx, θy, θz]).as_matrix()\n",
    "```"
   ]
  },
  {
   "cell_type": "code",
   "execution_count": 21,
   "metadata": {},
   "outputs": [],
   "source": [
    "from scipy.spatial.transform import Rotation\n"
   ]
  },
  {
   "cell_type": "code",
   "execution_count": null,
   "metadata": {},
   "outputs": [],
   "source": []
  },
  {
   "cell_type": "code",
   "execution_count": null,
   "metadata": {},
   "outputs": [],
   "source": []
  },
  {
   "cell_type": "code",
   "execution_count": null,
   "metadata": {},
   "outputs": [],
   "source": []
  }
 ],
 "metadata": {
  "interpreter": {
   "hash": "becc7bcbb7a4199260879ba1a9630da63d2f52d521041d6c190802a5dc80d452"
  },
  "kernelspec": {
   "display_name": "Python 3.8.8 64-bit",
   "language": "python",
   "name": "python3"
  },
  "language_info": {
   "codemirror_mode": {
    "name": "ipython",
    "version": 3
   },
   "file_extension": ".py",
   "mimetype": "text/x-python",
   "name": "python",
   "nbconvert_exporter": "python",
   "pygments_lexer": "ipython3",
   "version": "3.8.8"
  },
  "orig_nbformat": 4
 },
 "nbformat": 4,
 "nbformat_minor": 2
}
