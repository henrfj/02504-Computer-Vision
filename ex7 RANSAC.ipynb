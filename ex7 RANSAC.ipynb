{
 "cells": [
  {
   "cell_type": "markdown",
   "metadata": {},
   "source": [
    "# Week 7: Robust model fitting using RANSAC\n",
    "\n",
    "These exercises will introduce you to robust model fitting. You will implement straight line finding \\\n",
    "using RANSAC"
   ]
  },
  {
   "cell_type": "code",
   "execution_count": 1,
   "metadata": {},
   "outputs": [],
   "source": [
    "import numpy as np\n",
    "import matplotlib.pyplot as plt"
   ]
  },
  {
   "cell_type": "code",
   "execution_count": 2,
   "metadata": {},
   "outputs": [],
   "source": [
    "def test_points(n_in, n_out):\n",
    "    a = (np.random.rand(n_in)-.5)*10\n",
    "    b = np.vstack((a, a*.5+np.random.randn(n_in)*.25))\n",
    "    points = np.hstack((b, 2*np.random.randn(2, n_out)))\n",
    "    return np.random.permutation(points.T).T\n"
   ]
  },
  {
   "cell_type": "code",
   "execution_count": 3,
   "metadata": {},
   "outputs": [],
   "source": [
    "n_in = 300\n",
    "n_out = 100\n",
    "points = test_points(n_in, n_out)"
   ]
  },
  {
   "cell_type": "code",
   "execution_count": 4,
   "metadata": {},
   "outputs": [
    {
     "data": {
      "text/plain": [
       "[<matplotlib.lines.Line2D at 0x27e7e7469d0>]"
      ]
     },
     "execution_count": 4,
     "metadata": {},
     "output_type": "execute_result"
    },
    {
     "data": {
      "image/png": "[encoded data removed]",
      "text/plain": [
       "<Figure size 432x288 with 1 Axes>"
      ]
     },
     "metadata": {
      "needs_background": "light"
     },
     "output_type": "display_data"
    }
   ],
   "source": [
    "plt.plot(points[0, :], points[1, :], \".b\")"
   ]
  },
  {
   "cell_type": "markdown",
   "metadata": {},
   "source": [
    "#### Exercise 7.1\n",
    "\n",
    "Given two points in homogenous coordinates, estimate a line, also in homogenous coordinates."
   ]
  },
  {
   "cell_type": "code",
   "execution_count": 5,
   "metadata": {},
   "outputs": [],
   "source": [
    "# https://math.stackexchange.com/questions/290315/equation-of-a-line-in-homogenous-coordinates-given-2-points-in-affine-coordinate\n",
    "\n",
    "def est_line(p1, p2):\n",
    "    return np.cross(p1, p2)"
   ]
  },
  {
   "cell_type": "code",
   "execution_count": 6,
   "metadata": {},
   "outputs": [
    {
     "data": {
      "text/plain": [
       "(1.634610533127657, -2.4526832278298296, 0.1293940863370655)"
      ]
     },
     "execution_count": 6,
     "metadata": {},
     "output_type": "execute_result"
    }
   ],
   "source": [
    "p1 = points[:, 0]\n",
    "p2 = points[:, 1]\n",
    "p1 = np.hstack((p1, 1))\n",
    "p2 = np.hstack((p2, 1))\n",
    "\n",
    "C = est_line(p1, p2)\n",
    "# C[0]*x + C[1]*y + C[2] = 0\n",
    "# a*x + b*y + c = 0\n",
    "\n",
    "a = C[0]\n",
    "b = C[1]\n",
    "c = C[2]\n",
    "a, b, c\n"
   ]
  },
  {
   "cell_type": "markdown",
   "metadata": {},
   "source": [
    "#### 7.2 \n",
    "\n",
    "Make a function that determines if a given 2D point is an inlier or an outlier with respect to a \\\n",
    "given line. The threshold should be supplied as parameter to this function, such that it can easily \\\n",
    "be tuned later"
   ]
  },
  {
   "cell_type": "code",
   "execution_count": 7,
   "metadata": {},
   "outputs": [
    {
     "data": {
      "text/plain": [
       "array([-1.07910866, -0.66642454,  1.        ])"
      ]
     },
     "execution_count": 7,
     "metadata": {},
     "output_type": "execute_result"
    }
   ],
   "source": [
    "p2"
   ]
  },
  {
   "cell_type": "code",
   "execution_count": 8,
   "metadata": {},
   "outputs": [
    {
     "name": "stdout",
     "output_type": "stream",
     "text": [
      "True\n",
      "True\n",
      "False\n",
      "True\n",
      "True\n"
     ]
    }
   ],
   "source": [
    "def is_inliner(point, line, threshold):\n",
    "    line=line.copy()\n",
    "    point=point.copy()\n",
    "    # First we normalize a^2 + b^2 = 1\n",
    "    a = line[0]\n",
    "    b = line[1]\n",
    "    scale = np.sqrt(a**2 + b**2)\n",
    "    line/= scale\n",
    "\n",
    "    # Then we can calculate distance to line:\n",
    "    dist = np.abs(line.T@point)\n",
    "    return dist<threshold\n",
    "\n",
    "print(is_inliner(p1, C, 1))\n",
    "print(is_inliner(p2, C, 1))\n",
    "print(is_inliner(np.array([5, 5, 1]), C, 1))\n",
    "# NB! Both the homogenous points and the line is all scale invariant!\n",
    "print(is_inliner(p1*15, C, 1))\n",
    "print(is_inliner(p2, C*15, 1))"
   ]
  },
  {
   "cell_type": "markdown",
   "metadata": {},
   "source": [
    "#### 7.3 \n",
    "\n",
    "Make a function that calculates the consensus, i.e. the number of inliers, for a line with respect to\n",
    "a set of points\n"
   ]
  },
  {
   "cell_type": "code",
   "execution_count": 9,
   "metadata": {},
   "outputs": [],
   "source": [
    "def consensus(line, points, threshold=1):\n",
    "    '''\n",
    "    Line is a homogenous line.\n",
    "    Points is set of inhomogenous points.\n",
    "    TODO: get rid of for loop.\n",
    "    '''\n",
    "    no = 0\n",
    "    for i in range(len(points[0])):\n",
    "        point = np.array([points[0, i],\n",
    "                          points[1, i],\n",
    "                          1])\n",
    "        if is_inliner(point, line, threshold=threshold):\n",
    "            no+=1\n",
    "    return no"
   ]
  },
  {
   "cell_type": "markdown",
   "metadata": {},
   "source": [
    "#### 7.4\n",
    "\n",
    "Make a function that randomly draws two of n 2D points."
   ]
  },
  {
   "cell_type": "code",
   "execution_count": 10,
   "metadata": {},
   "outputs": [],
   "source": [
    "def drawTwo(points):\n",
    "    indexes = np.random.choice(len(points[0]), 2)\n",
    "    return points[:, indexes]"
   ]
  },
  {
   "cell_type": "code",
   "execution_count": 11,
   "metadata": {},
   "outputs": [],
   "source": [
    "p1, p2 = drawTwo(points)"
   ]
  },
  {
   "cell_type": "markdown",
   "metadata": {},
   "source": [
    "#### 7.5\n",
    "\n",
    "Assemble the functions made above to a working RANSAC algorithm for estimating lines. Set the \\\n",
    "number of iterations and the threshold manually.\n",
    "\n",
    "\n",
    "```Python\n",
    "C[0]*x + C[1]*y + C[2] = 0\n",
    "a*x + b*y + c = 0\n",
    "y = 1/b(-a*x - c)\n",
    "```"
   ]
  },
  {
   "cell_type": "code",
   "execution_count": 12,
   "metadata": {},
   "outputs": [],
   "source": [
    "def RANSAC_simple(points, threshold=1, iterations=500):\n",
    "    best_inliers = 0\n",
    "    best_line = None\n",
    "    for i in range(iterations):\n",
    "        # Draw two random points\n",
    "        p1, p2 = drawTwo(points)\n",
    "        p1 = np.hstack((p1, 1))\n",
    "        p2 = np.hstack((p2, 1))\n",
    "        # Estimate the line\n",
    "        line = est_line(p1, p2)\n",
    "        # Find no. inliers\n",
    "        no_inliers = consensus(line, points, threshold=threshold)\n",
    "        if no_inliers>best_inliers:\n",
    "            best_line = line.copy()\n",
    "            best_inliers = no_inliers\n",
    "    return best_line"
   ]
  },
  {
   "cell_type": "code",
   "execution_count": 13,
   "metadata": {},
   "outputs": [
    {
     "data": {
      "text/plain": [
       "[<matplotlib.lines.Line2D at 0x27e7e8512b0>]"
      ]
     },
     "execution_count": 13,
     "metadata": {},
     "output_type": "execute_result"
    },
    {
     "data": {
      "image/png": "[encoded data removed]",
      "text/plain": [
       "<Figure size 432x288 with 1 Axes>"
      ]
     },
     "metadata": {
      "needs_background": "light"
     },
     "output_type": "display_data"
    }
   ],
   "source": [
    "best_line = RANSAC_simple(points, threshold=0.2, iterations=500)\n",
    "\n",
    "a = best_line[0]\n",
    "b = best_line[1]\n",
    "c = best_line[2]\n",
    "\n",
    "xs = np.arange(points[0,:].min(), points[0,:].max())\n",
    "plt.plot(xs, 1/b*(-a*xs - c))\n",
    "plt.plot(points[0, :], points[1, :], \".r\")\n"
   ]
  },
  {
   "cell_type": "markdown",
   "metadata": {},
   "source": [
    "**Threshold** If it is too big, then the \"best line\" will just be any line pointing in more or less the right direction. If it is too small then any line will be equally bad and the results are random.\n",
    "\n",
    "Using 1/4 the thickness of the shape of the points seems to be nice."
   ]
  },
  {
   "cell_type": "markdown",
   "metadata": {},
   "source": [
    "#### 7.7 \n",
    "\n",
    "Add the final step to your implementation, where you fit a new line to all inliers of the best \\\n",
    "line. The total least squares fit of a straight line to a set of points is given by the first principal \\\n",
    "component of them."
   ]
  },
  {
   "cell_type": "code",
   "execution_count": 22,
   "metadata": {},
   "outputs": [
    {
     "data": {
      "image/png": "[encoded data removed]",
      "text/plain": [
       "<Figure size 432x288 with 1 Axes>"
      ]
     },
     "metadata": {
      "needs_background": "light"
     },
     "output_type": "display_data"
    }
   ],
   "source": [
    "best_line = RANSAC_simple(points, threshold=0.2, iterations=500)\n",
    "\n",
    "best_i = []\n",
    "for i in range(len(points[0])):\n",
    "    p = np.hstack((points[:, i], 1))\n",
    "    if is_inliner(p, best_line, threshold=0.2):\n",
    "        best_i.append(i)\n",
    "best_points = points[:, best_i]\n",
    "\n",
    "plt.plot(points[0, :], points[1, :], \".r\")\n",
    "plt.plot(best_points[0, :], best_points[1, :], \".b\");"
   ]
  },
  {
   "cell_type": "code",
   "execution_count": 15,
   "metadata": {},
   "outputs": [],
   "source": [
    "def pca_line(x): #assumes x is a (2 x n) array of points\n",
    "    d = np.cov(x)[:, 0]\n",
    "    d /= np.linalg.norm(d)\n",
    "    l = [d[1], -d[0]]\n",
    "    l.append(-(l@x.mean(1)))\n",
    "    return l\n",
    "\n",
    "\n",
    "def RANSAC_fit(points, threshold=1, iterations=500):\n",
    "    best_inliers = 0\n",
    "    best_line = None\n",
    "    for i in range(iterations):\n",
    "        # Draw two random points\n",
    "        p1, p2 = drawTwo(points)\n",
    "        p1 = np.hstack((p1, 1))\n",
    "        p2 = np.hstack((p2, 1))\n",
    "        # Estimate the line\n",
    "        line = est_line(p1, p2)\n",
    "        # Find no. inliers\n",
    "        no_inliers = consensus(line, points, threshold=threshold)\n",
    "        if no_inliers>best_inliers:\n",
    "            best_line = line.copy()\n",
    "            best_inliers = no_inliers\n",
    "    \n",
    "    # We now have the best line. Extract inliners and fit.\n",
    "    best_i = []\n",
    "    for i in range(len(points[0])):\n",
    "        p = np.hstack((points[:, i], 1))\n",
    "        if is_inliner(p, best_line, threshold=threshold):\n",
    "            best_i.append(i)\n",
    "    best_points = points[:, best_i]\n",
    "    \n",
    "    fit_line = pca_line(best_points)\n",
    "    return fit_line, best_points"
   ]
  },
  {
   "cell_type": "code",
   "execution_count": 32,
   "metadata": {},
   "outputs": [],
   "source": [
    "fit_line, best_points = RANSAC_fit(points, threshold=0.3, iterations=1000)"
   ]
  },
  {
   "cell_type": "code",
   "execution_count": 34,
   "metadata": {},
   "outputs": [
    {
     "data": {
      "image/png": "[encoded data removed]",
      "text/plain": [
       "<Figure size 432x288 with 1 Axes>"
      ]
     },
     "metadata": {
      "needs_background": "light"
     },
     "output_type": "display_data"
    }
   ],
   "source": [
    "xs = np.arange(points[0,:].min(), points[0,:].max())\n",
    "a = fit_line[0]\n",
    "b = fit_line[1]\n",
    "c = fit_line[2]\n",
    "\n",
    "plt.plot(points[0, :], points[1, :], \".r\")\n",
    "plt.plot(best_points[0, :], best_points[1, :], \".b\")\n",
    "plt.plot(xs, 1/b*(-a*xs - c), \"g\")\n",
    "plt.title(str(1000)+\" iterations\\nFit final model on all inliers\");"
   ]
  },
  {
   "cell_type": "markdown",
   "metadata": {},
   "source": [
    "### 7.8\n",
    "\n",
    "Implement the stopping criteria for RANSAC as described on the slides. Use p = 0.99.\n",
    "\n",
    "\n",
    "- $\\epsilon$ is relative share of outliers in data.\n",
    "- n is the datapoints in one sample: DoF of the model we want to fit.\n",
    "- p is the probability of having at least one sample with no outlayers\n",
    "\n",
    ">    P(one sample is of only inliers) = (1-$\\epsilon$)^nn \\\n",
    ">    P(one sample has any outlayers) = 1 - (1-$\\epsilon$)^n \\\n",
    ">    P(each of N samples all has one outlayer) = (1 - (1-$\\epsilon$)^n)^N \\\n",
    ">    P(at least one sample has no outlayers) = 1 - ((1 - (1-$\\epsilon$)^n)^N) = p \\\n",
    "\n",
    "- Run the algorithm until N samples has been tested: $N = \\frac{log(1-p)}{log(1-(1-\\epsilon)^n)}$ => p is guaranteed.\n",
    "\n",
    "- Often, you do not know epsilon. Then use eps_hat = 1 - s/m as an estimation, where s is the most no. of inliers found so far, and m is total no. of points. This will be an upper limit of epsilon and guarantees that we get at least p accuracy."
   ]
  },
  {
   "cell_type": "code",
   "execution_count": 18,
   "metadata": {},
   "outputs": [],
   "source": [
    "def RANSAC_epsilon(points, threshold, p=0.99):\n",
    "    best_inliers = 0\n",
    "    best_line = None\n",
    "    \n",
    "    m = len(points[0])\n",
    "    iteration = 0 # Current iteration\n",
    "    N_hat = 1000 # Iterations needed to achieve p\n",
    "    epsilon_hat = 1\n",
    "    while iteration<N_hat:\n",
    "        # Draw two random points\n",
    "        p1, p2 = drawTwo(points)\n",
    "        p1 = np.hstack((p1, 1))\n",
    "        p2 = np.hstack((p2, 1))\n",
    "        # Estimate the line\n",
    "        line = est_line(p1, p2)\n",
    "        # Find no. inliers\n",
    "        no_inliers = consensus(line, points, threshold=threshold)\n",
    "        if no_inliers>best_inliers:\n",
    "            best_line = line.copy()\n",
    "            best_inliers = no_inliers\n",
    "            # Should we stop?\n",
    "            epsilon_hat = 1 - best_inliers/m\n",
    "            N_hat = np.log(1 - p) / np.log(1 - (1 - epsilon_hat)**2)\n",
    "            print(\"eps_hat:\", epsilon_hat, \" ==> \\tN-hat\", N_hat, end=\"\\n\")\n",
    "\n",
    "        iteration += 1\n",
    "    \n",
    "    # We now have the best line. Extract inliners and fit.\n",
    "    best_i = []\n",
    "    for i in range(len(points[0])):\n",
    "        p = np.hstack((points[:, i], 1))\n",
    "        if is_inliner(p, best_line, threshold=threshold):\n",
    "            best_i.append(i)\n",
    "    best_points = points[:, best_i]\n",
    "    \n",
    "    fit_line = pca_line(best_points)\n",
    "    print(\"Ran for %i iterations\" % iteration)\n",
    "    return fit_line, best_points"
   ]
  },
  {
   "cell_type": "code",
   "execution_count": 29,
   "metadata": {},
   "outputs": [
    {
     "name": "stdout",
     "output_type": "stream",
     "text": [
      "eps_hat: 0.99  ==> \tN-hat 29955.824844440736\n",
      "eps_hat: 0.975  ==> \tN-hat 4791.673615473208\n",
      "eps_hat: 0.97  ==> \tN-hat 3327.0933241420835\n",
      "eps_hat: 0.965  ==> \tN-hat 2443.997561374828\n",
      "eps_hat: 0.9575  ==> \tN-hat 1657.0385813888126\n",
      "Ran for 1658 iterations\n"
     ]
    }
   ],
   "source": [
    "fit_line, best_points = RANSAC_epsilon(points, threshold=0.01, p=0.95)"
   ]
  },
  {
   "cell_type": "code",
   "execution_count": 35,
   "metadata": {},
   "outputs": [
    {
     "data": {
      "image/png": "[encoded data removed]",
      "text/plain": [
       "<Figure size 432x288 with 1 Axes>"
      ]
     },
     "metadata": {
      "needs_background": "light"
     },
     "output_type": "display_data"
    }
   ],
   "source": [
    "xs = np.arange(points[0,:].min(), points[0,:].max())\n",
    "a = fit_line[0]\n",
    "b = fit_line[1]\n",
    "c = fit_line[2]\n",
    "\n",
    "plt.plot(points[0, :], points[1, :], \".r\")\n",
    "#plt.plot(best_points[0, :], best_points[1, :], \".r\")\n",
    "plt.plot(xs, 1/b*(-a*xs - c), \"b\")\n",
    "plt.title(\"Confidence of 95%\\nRan for 1658 iteration\");"
   ]
  },
  {
   "cell_type": "code",
   "execution_count": null,
   "metadata": {},
   "outputs": [],
   "source": []
  }
 ],
 "metadata": {
  "interpreter": {
   "hash": "d1902db9bb2e389c5c5f64e693209aef1412f369d132ca57a092e79ab8be655e"
  },
  "kernelspec": {
   "display_name": "Python 3.8.8 64-bit",
   "language": "python",
   "name": "python3"
  },
  "language_info": {
   "codemirror_mode": {
    "name": "ipython",
    "version": 3
   },
   "file_extension": ".py",
   "mimetype": "text/x-python",
   "name": "python",
   "nbconvert_exporter": "python",
   "pygments_lexer": "ipython3",
   "version": "3.8.8"
  },
  "orig_nbformat": 4
 },
 "nbformat": 4,
 "nbformat_minor": 2
}
