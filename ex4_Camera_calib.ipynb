{
 "cells": [
  {
   "cell_type": "markdown",
   "metadata": {},
   "source": [
    "# Exercise 4 Camera calibration \n",
    "\n",
    "In this exercise we will look at:\n",
    "- Direct linear transform (DLT), linear algorithm for camera calibration and\n",
    "- Checkerboard calibration, and bundle adjustment from Zhang (2000).\n",
    "\n",
    "You should be able to perform camera calibration using both methods."
   ]
  },
  {
   "cell_type": "code",
   "execution_count": 1,
   "metadata": {},
   "outputs": [],
   "source": [
    "import matplotlib.pyplot as plt\n",
    "import math\n",
    "import numpy as np\n",
    "import cv2\n",
    "from scipy.spatial.transform import Rotation\n",
    "np.set_printoptions(suppress=True)"
   ]
  },
  {
   "cell_type": "markdown",
   "metadata": {},
   "source": [
    "#### 4.1 DLT Direct linear transformation"
   ]
  },
  {
   "cell_type": "code",
   "execution_count": 2,
   "metadata": {},
   "outputs": [
    {
     "data": {
      "text/plain": [
       "array([[1000,    0,  960],\n",
       "       [   0, 1000,  540],\n",
       "       [   0,    0,    1]])"
      ]
     },
     "execution_count": 2,
     "metadata": {},
     "output_type": "execute_result"
    }
   ],
   "source": [
    "# Pose matrices:\n",
    "R = np.array([[np.sqrt(0.5), -np.sqrt(0.5), 0], [np.sqrt(0.5), np.sqrt(0.5), 0], [0, 0, 1]])\n",
    "t = np.array([[0, 0, 10]]).T\n",
    "\n",
    "f = 1000\n",
    "dx = 1920//2\n",
    "dy = 1080//2\n",
    "K = np.array([[f, 0, dx], [0, f, dy], [0, 0, 1]])\n",
    "K"
   ]
  },
  {
   "cell_type": "code",
   "execution_count": 3,
   "metadata": {},
   "outputs": [
    {
     "name": "stdout",
     "output_type": "stream",
     "text": [
      "[[0 1 0 1 0 1 0 1]\n",
      " [0 0 1 1 0 0 1 1]\n",
      " [0 0 0 0 1 1 1 1]]\n"
     ]
    }
   ],
   "source": [
    "# Exact 3D points\n",
    "Q = np.array([[0, 1, 0, 1, 0, 1, 0, 1], [0, 0, 1, 1, 0, 0, 1, 1], [0, 0, 0, 0, 1, 1, 1, 1]])\n",
    "print(Q)"
   ]
  },
  {
   "cell_type": "code",
   "execution_count": 4,
   "metadata": {},
   "outputs": [
    {
     "name": "stdout",
     "output_type": "stream",
     "text": [
      "[[ 707 -707  960 9600]\n",
      " [ 707  707  540 5400]\n",
      " [   0    0    1   10]]\n"
     ]
    }
   ],
   "source": [
    "P_exact = K@np.hstack((R, t))\n",
    "print(np.int32(P_exact))"
   ]
  },
  {
   "cell_type": "code",
   "execution_count": 5,
   "metadata": {},
   "outputs": [],
   "source": [
    "Q_h = np.vstack((Q, np.ones(len(Q[0]))))"
   ]
  },
  {
   "cell_type": "code",
   "execution_count": 6,
   "metadata": {},
   "outputs": [
    {
     "name": "stdout",
     "output_type": "stream",
     "text": [
      "[960. 540.], [1030.71  610.71], [889.29 610.71], [960.   681.42], [960. 540.], [1024.28  604.28], [895.72 604.28], [960.   668.56], "
     ]
    }
   ],
   "source": [
    "q_h = P_exact@Q_h\n",
    "q = q_h[0:2, :]/q_h[2, :]\n",
    "for i in range(len(q[0])):\n",
    "    print(np.round(q[:,i],2), end=\", \")"
   ]
  },
  {
   "cell_type": "markdown",
   "metadata": {},
   "source": [
    "#### 4.2 DLT\n",
    "\n",
    "1. Use Q and q to estimate Projection matrix.\n",
    "2. Normalize the points in Q before estimating Projection. "
   ]
  },
  {
   "cell_type": "code",
   "execution_count": 7,
   "metadata": {},
   "outputs": [],
   "source": [
    "def crossop(p):\n",
    "    return np.array([[0,-p[2],p[1]],\n",
    "                    [p[2],0,-p[0]],\n",
    "                    [-p[1],p[0],0]])\n",
    "    \n",
    "def get_b(Q,q):\n",
    "    \"\"\"Calculates the B matrix by using kronecker multiplication and crossup.\"\"\"\n",
    "    B = np.kron(Q[:,0], crossop(q[:,0]))\n",
    "    for i in range(1,len(q[0])):\n",
    "        B_temp = np.kron(Q[:,i], crossop(q[:,i]))\n",
    "        B = np.vstack((B,B_temp))\n",
    "    return B\n",
    "\n",
    "def normalize2d(Q):\n",
    "    mean = np.mean(Q,axis=1)\n",
    "    std = np.std(Q,axis=1)\n",
    "    T = np.array([[1/std[0],0,-mean[0]/std[0]],\n",
    "                  [0,1/std[1],-mean[1]/std[1]],\n",
    "                 [0,0,1]])\n",
    "    return [T@Q, T]\n",
    "\n",
    "def estimate_P(Q_h, q_h, normalize=False):\n",
    "    if normalize:\n",
    "        q_h, T = normalize2d(q_h)\n",
    "    B = get_b(Q_h, q_h)\n",
    "    _,_,VT = np.linalg.svd(B.T@B) #U,S,VT = np.linalg.svd(A.T@A)\n",
    "    # VT is sorted in descending order of singular value\n",
    "    P =  VT[-1] # VT is flattened, P is a 3x4\n",
    "    P = P.reshape((4,3)).T\n",
    "    if normalize:\n",
    "        P = np.linalg.inv(T)@P # Turn back the normalization\n",
    "    P = (P/P[-1, -1] * 10)\n",
    "    return P\n",
    "\n",
    "def print_matrix(M):\n",
    "    print(\"[\", end=\"\")\n",
    "    for i in range(len(M)):\n",
    "        if i==0:\n",
    "            print(\"[\", end=\"\")\n",
    "        else:\n",
    "            print(\" [\", end=\"\")\n",
    "        for j in range(len(M[i])):\n",
    "            if j==len(M[i])-1:\n",
    "                print(np.round(M[i][j], 2), end= \"]\\n\")\n",
    "            else:\n",
    "                print(np.round(M[i][j], 2), end= \" \")"
   ]
  },
  {
   "cell_type": "code",
   "execution_count": 8,
   "metadata": {},
   "outputs": [],
   "source": [
    "P_est_1 = estimate_P(Q_h.copy(), q_h.copy(), normalize=False)\n",
    "P_est_2 = estimate_P(Q_h.copy(), q_h.copy(), normalize=True)"
   ]
  },
  {
   "cell_type": "code",
   "execution_count": 36,
   "metadata": {},
   "outputs": [
    {
     "name": "stdout",
     "output_type": "stream",
     "text": [
      "P_exact:\n",
      "[[707.11 -707.11 960.0 9600.0]\n",
      " [707.11 707.11 540.0 5400.0]\n",
      " [0.0 0.0 1.0 10.0]\n",
      "P estimated using normalized points\n",
      "[[707.11 -707.11 960.0 9600.0]\n",
      " [707.11 707.11 540.0 5400.0]\n",
      " [-0.0 0.0 1.0 10.0]\n",
      "P estimated using raw points\n",
      "[[707.11 -707.11 960.0 9600.0]\n",
      " [707.11 707.11 540.0 5400.0]\n",
      " [0.0 -0.0 1.0 10.0]\n"
     ]
    }
   ],
   "source": [
    "print(\"P_exact:\")\n",
    "print_matrix(P_exact)\n",
    "print(\"P estimated using normalized points\")\n",
    "print_matrix(P_est_1)\n",
    "print(\"P estimated using raw points\")\n",
    "print_matrix(P_est_2)"
   ]
  },
  {
   "cell_type": "code",
   "execution_count": 41,
   "metadata": {},
   "outputs": [
    {
     "name": "stdout",
     "output_type": "stream",
     "text": [
      "Exact P\n",
      "[[ 707.10678119 -707.10678119  960.         9600.        ]\n",
      " [ 707.10678119  707.10678119  540.         5400.        ]\n",
      " [   0.            0.            1.           10.        ]]\n",
      "DLT using normalized points\n",
      "[[ 707.10678089 -707.1067797   960.00000015 9599.99999996]\n",
      " [ 707.10678101  707.1067822   540.00000008 5399.99999998]\n",
      " [  -0.            0.            1.           10.        ]]\n"
     ]
    }
   ],
   "source": [
    "print(\"Exact P\")\n",
    "print(P_exact)\n",
    "print(\"DLT using normalized points\")\n",
    "print(P_est_1)"
   ]
  },
  {
   "cell_type": "code",
   "execution_count": 10,
   "metadata": {},
   "outputs": [],
   "source": [
    "\n",
    "# Recalculate points\n",
    "q_h_est_1 = P_est_1@Q_h\n",
    "q_h_est_2 = P_est_2@Q_h\n",
    "# Transform to nonhomogenous points\n",
    "q_est_1 = q_h_est_1[0:2, :]/q_h_est_1[2, :]\n",
    "q_est_2 = q_h_est_2[0:2, :]/q_h_est_2[2, :]"
   ]
  },
  {
   "cell_type": "code",
   "execution_count": 11,
   "metadata": {},
   "outputs": [
    {
     "name": "stdout",
     "output_type": "stream",
     "text": [
      "[960. 540.], [1030.71  610.71], [889.29 610.71], [960.   681.42], [960. 540.], [1024.28  604.28], [895.72 604.28], [960.   668.56], \n",
      "---------------------------------------------\n",
      "[960. 540.], [1030.71  610.71], [889.29 610.71], [960.   681.42], [960. 540.], [1024.28  604.28], [895.72 604.28], [960.   668.56], \n",
      "---------------------------------------------\n",
      "[960. 540.], [1030.71  610.71], [889.29 610.71], [960.   681.42], [960. 540.], [1024.28  604.28], [895.72 604.28], [960.   668.56], \n",
      "---------------------------------------------\n"
     ]
    }
   ],
   "source": [
    "for i in range(len(q[0])):\n",
    "    print(np.round(q[:,i],2), end=\", \")\n",
    "print(\"\\n---------------------------------------------\")\n",
    "for i in range(len(q[0])):\n",
    "    print(np.round(q_est_1[:,i],2), end=\", \")\n",
    "print(\"\\n---------------------------------------------\")\n",
    "for i in range(len(q[0])):\n",
    "    print(np.round(q_est_2[:,i],2), end=\", \")\n",
    "print(\"\\n---------------------------------------------\")\n"
   ]
  },
  {
   "cell_type": "code",
   "execution_count": 12,
   "metadata": {},
   "outputs": [
    {
     "name": "stdout",
     "output_type": "stream",
     "text": [
      "1.0621062761322725e-08\n",
      "3.8222027442951554e-08\n"
     ]
    }
   ],
   "source": [
    "print(np.linalg.norm(q_est_1-q))\n",
    "print(np.linalg.norm(q_est_2-q))"
   ]
  },
  {
   "cell_type": "markdown",
   "metadata": {},
   "source": [
    "## Programming: Checkerboard calibration using Zhangs method\n",
    "\n",
    "Here we will prepare calibration with checkerboards. We do not yet have the ability to detect\n",
    "checkerboards, so for now we will define the points ourselves.\n",
    "\n",
    "#### 4.3 Define a checkerboard\n"
   ]
  },
  {
   "cell_type": "code",
   "execution_count": 13,
   "metadata": {},
   "outputs": [],
   "source": [
    "def checkerboard_points(n,m):\n",
    "    Q = np.zeros(shape=(3, n*m))\n",
    "    for i in range(n):\n",
    "        for j in range(m):\n",
    "            Q[:, i*m+j] = [i - (n-1)/2.0,\n",
    "                        j - (m-1)/2.0,\n",
    "                        0]\n",
    "                \n",
    "    return Q"
   ]
  },
  {
   "cell_type": "code",
   "execution_count": 14,
   "metadata": {},
   "outputs": [
    {
     "data": {
      "text/plain": [
       "<matplotlib.collections.PathCollection at 0x190c7269910>"
      ]
     },
     "execution_count": 14,
     "metadata": {},
     "output_type": "execute_result"
    },
    {
     "data": {
      "image/png": "[encoded data removed]",
      "text/plain": [
       "<Figure size 432x288 with 1 Axes>"
      ]
     },
     "metadata": {
      "needs_background": "light"
     },
     "output_type": "display_data"
    }
   ],
   "source": [
    "checkerboard = checkerboard_points(10,10)\n",
    "plt.scatter(checkerboard[0,:], checkerboard[1,:])"
   ]
  },
  {
   "cell_type": "markdown",
   "metadata": {},
   "source": [
    "#### 4.4 Checkerboard corners\n",
    "\n",
    "Based on our original set of checkerboard corners, create three sets of rotated sets using the Rotation matrix R.\n",
    "\n",
    "```Python\n",
    "R = Rotation.from_euler('xyz', [θx, θy, θz]).as_matrix()\n",
    "```"
   ]
  },
  {
   "cell_type": "code",
   "execution_count": 15,
   "metadata": {},
   "outputs": [],
   "source": [
    "from scipy.spatial.transform import Rotation\n",
    "Ra = Rotation.from_euler('xyz', [np.pi/10, 0, 0]).as_matrix()\n",
    "Rb = Rotation.from_euler('xyz', [0, 0, 0]).as_matrix()\n",
    "Rc = Rotation.from_euler('xyz', [-np.pi/10, 0, 0]).as_matrix()\n",
    "\n",
    "Qa = Ra@checkerboard\n",
    "Qb = Rb@checkerboard\n",
    "Qc = Rc@checkerboard\n"
   ]
  },
  {
   "cell_type": "code",
   "execution_count": 16,
   "metadata": {},
   "outputs": [
    {
     "name": "stderr",
     "output_type": "stream",
     "text": [
      "C:\\Users\\henri\\AppData\\Local\\Temp\\ipykernel_15508\\2705274580.py:6: UserWarning: Matplotlib is currently using module://matplotlib_inline.backend_inline, which is a non-GUI backend, so cannot show the figure.\n",
      "  fig.show()\n"
     ]
    },
    {
     "data": {
      "image/png": "[encoded data removed]",
      "text/plain": [
       "<Figure size 432x288 with 1 Axes>"
      ]
     },
     "metadata": {
      "needs_background": "light"
     },
     "output_type": "display_data"
    }
   ],
   "source": [
    "fig = plt.figure()\n",
    "ax = plt.axes(projection='3d')\n",
    "ax.scatter3D(Qa[0,:], Qa[1,:], Qa[2,:])\n",
    "ax.scatter3D(Qb[0,:], Qb[1,:], Qb[2,:])\n",
    "ax.scatter3D(Qc[0,:], Qc[1,:], Qc[2,:])\n",
    "fig.show()"
   ]
  },
  {
   "cell_type": "code",
   "execution_count": 17,
   "metadata": {},
   "outputs": [],
   "source": [
    "## Then project all points to the image plane\n",
    "Qa_h = np.vstack((Qa, np.ones(len(Qa[0]))))\n",
    "qa_h = P_exact@Qa_h\n",
    "qa = qa_h[0:2, :]/qa_h[2, :]\n",
    "\n",
    "Qb_h = np.vstack((Qb, np.ones(len(Qb[0]))))\n",
    "qb_h = P_exact@Qb_h\n",
    "qb = qb_h[0:2, :]/qb_h[2, :]\n",
    "\n",
    "Qc_h = np.vstack((Qc, np.ones(len(Qc[0]))))\n",
    "qc_h = P_exact@Qc_h\n",
    "qc = qc_h[0:2, :]/qc_h[2, :]\n",
    "\n"
   ]
  },
  {
   "cell_type": "markdown",
   "metadata": {},
   "source": [
    "#### 4.5 Zhangs method!\n",
    "\n",
    "Now we will do zhangs method step by step, using our rotated checkerboard corners:\n",
    "1. Estimate homography using the fact that the checkerboards are flat planes.\n"
   ]
  },
  {
   "cell_type": "code",
   "execution_count": 18,
   "metadata": {},
   "outputs": [],
   "source": [
    "def hest(q1,q2):\n",
    "    \"\"\"\n",
    "    Estimates H given points Q1, Q2 on the two image planes. \n",
    "    Need at least 4 pairs of points to estimate the matrix with 8 degrees of freedom.\n",
    "    \"\"\"\n",
    "    q1,T1 = normalize2d(q1)\n",
    "    q2,T2 = normalize2d(q2)\n",
    "    assert len(q1[0])>1, \"We need at least two points (aka two columns)\"\n",
    "    assert len(q1[0])==len(q2[0]), \"Number of column of q1 and q2 must be equal!\"\n",
    "    B = get_b_new(q1,q2) #np.vstack((B0,B1))\n",
    "    _,_,VT = np.linalg.svd(B.T@B) #U,S,VT = np.linalg.svd(np.hstack((B.T,B)))\n",
    "    H = np.reshape(VT[-1],(3,3)) # VT is sorted in descending order of singular value\n",
    "    return (np.linalg.inv(T1)@H.T@T2.round(2))\n",
    "\n",
    "def get_b_old(q1,q2):\n",
    "    B = np.kron(q2[:,0], np.array([[0,-1,q1[1,0]],[1,0,-q1[0,0]],[-q1[1,0],q1[0,0],0]]))\n",
    "    for i in range(1,len(q1[0])):\n",
    "        B_temp = np.kron(q2[:,i], np.array([[0,-1,q1[1,i]],[1,0,-q1[0,i]],[-q1[1,i],q1[0,i],0]]))\n",
    "        B = np.vstack((B,B_temp))\n",
    "    return B\n",
    "\n",
    "def get_b_new(q1,q2):\n",
    "    B = np.kron(q2[:,0], crossop(q1[:,0]))\n",
    "    for i in range(1,len(q1.T)):\n",
    "        B_temp = np.kron(q2[:,i], crossop(q1[:,i]))\n",
    "        B = np.vstack((B,B_temp))\n",
    "    return B"
   ]
  },
  {
   "cell_type": "code",
   "execution_count": 19,
   "metadata": {},
   "outputs": [],
   "source": [
    "def estimateHomographies(Q_omega, qs):\n",
    "    \"\"\"\n",
    "    params:\n",
    "        - Q_omega: un-transformed checkerboard points in 3D\n",
    "        - qs: Same points, but rotated/scaled/transformed and projected to the image frame.\n",
    "\n",
    "    return:\n",
    "        - An array of homography matrices that map Q_omega to each of the three image plane representations.\n",
    "        q_i = H_i@Q_tilde, where Q_tilde is Q_omega but with removed z-coordinates and in homogenous representation.\n",
    "\n",
    "    For each representation i we have a different homography H_i = K[r_i(1) r_i(2) t_i]. \n",
    "    This algorithm relies on \"hest()\" from ex2 - which used q1 q2 seen by two different cameras on a plane to estimate Homography\n",
    "    between the two cameras:\n",
    "\n",
    "        q1 = H1@Q, q2 = H2@Q\n",
    "        Then H = H1@inv(H2) translates from one image plane to the next.\n",
    "\n",
    "    In this case we can just assume that Q_omega is a virtual image plane with all the corners, and we find the homography mappings \n",
    "    from the image planes to this virtual image plane.\n",
    "\n",
    "    \"\"\"\n",
    "    # Get the tilde representation\n",
    "    Q_tilde = np.vstack((Q_omega[:2,:], np.ones(len(Q_omega[0]))))\n",
    "\n",
    "    # Estimate H given points in image plane, and points on plane\n",
    "    Hs = []\n",
    "    for q in qs:\n",
    "        # Cast to homogenous\n",
    "        q_h = np.vstack((q, np.ones(len(q[0]))))\n",
    "        Hs.append(hest(q_h, Q_tilde))\n",
    "    return Hs"
   ]
  },
  {
   "cell_type": "code",
   "execution_count": 20,
   "metadata": {},
   "outputs": [
    {
     "name": "stdout",
     "output_type": "stream",
     "text": [
      "[[[ -41   21 -556]\n",
      "  [ -41  -48 -313]\n",
      "  [   0    0    0]]\n",
      "\n",
      " [[ -41   41 -554]\n",
      "  [ -41  -41 -311]\n",
      "  [   0    0    0]]\n",
      "\n",
      " [[ -41   56 -556]\n",
      "  [ -41  -29 -313]\n",
      "  [   0    0    0]]]\n"
     ]
    }
   ],
   "source": [
    "# Establish the parameters\n",
    "Q_omega = checkerboard.copy()\n",
    "qs = [qa.copy(), qb.copy(), qc.copy()]\n",
    "# Estimate\n",
    "Hs = estimateHomographies(Q_omega, qs)\n",
    "print(np.int32(Hs))"
   ]
  },
  {
   "cell_type": "code",
   "execution_count": 21,
   "metadata": {},
   "outputs": [],
   "source": [
    "### Now we can test these homography matrices, as qij = Hi @ Q_tilde.\n",
    "Q_omega = checkerboard.copy()\n",
    "Q_tilde = np.vstack((Q_omega[:2,:], np.ones(len(Q_omega[0]))))\n",
    "# Estimate using the H matrices\n",
    "qa_est_h = Hs[0] @ Q_tilde\n",
    "qb_est_h = Hs[1] @ Q_tilde\n",
    "qc_est_h = Hs[2] @ Q_tilde\n",
    "# Translate to inhomogenous coordinates\n",
    "qa_est = qa_est_h[0:2, :]/qa_est_h[2, :]\n",
    "qb_est = qb_est_h[0:2, :]/qb_est_h[2, :]\n",
    "qc_est = qc_est_h[0:2, :]/qc_est_h[2, :]"
   ]
  },
  {
   "cell_type": "code",
   "execution_count": 22,
   "metadata": {},
   "outputs": [
    {
     "name": "stdout",
     "output_type": "stream",
     "text": [
      "Relative error: -1.444374134185189e-15\n",
      "Relative error: -2.361446541782053e-15\n",
      "Relative error: -1.1121745885356304e-15\n"
     ]
    }
   ],
   "source": [
    "print(\"Relative error:\", np.sum((qa-qa_est)/np.linalg.norm(qa)))\n",
    "print(\"Relative error:\", np.sum((qb-qb_est)/np.linalg.norm(qb)))\n",
    "print(\"Relative error:\", np.sum((qc-qc_est)/np.linalg.norm(qc)))\n"
   ]
  },
  {
   "cell_type": "markdown",
   "metadata": {},
   "source": [
    "### 4.6 Estimate the B-vector\n",
    "\n",
    "Now, define a function estimate_b(Hs) that takes a list of homographies Hs and returns the vector \\\n",
    "b from Equation 6 in the paper. Use Equations 8 and 9 in the paper to form the matrix V . This \\\n",
    "is the coefficient matrix used to estimate b using SVD. \n",
    "\n",
    "https://learn.inside.dtu.dk/content/enforced/103777-OFFERING-653727/Exercices/EX04.pdf\n",
    "\n",
    "```Python\n",
    "B = inv(K).T@inv(K)\n",
    "Vb = 0\n",
    "```"
   ]
  },
  {
   "cell_type": "code",
   "execution_count": 23,
   "metadata": {},
   "outputs": [],
   "source": [
    "# Exercise 4.6\n",
    "def make_V(Hs):\n",
    "    V = make_Vrow(Hs[0])\n",
    "    for i in range(1,len(Hs)):\n",
    "        V = np.vstack([V,make_Vrow(Hs[i])])\n",
    "    return V\n",
    "    \n",
    "def make_Vrow(H):\n",
    "    v12 = np.array([H[0,0]*H[0,1],H[0,0]*H[1,1]+H[1,0]*H[0,1],H[1,0]*H[1,1],\n",
    "                   H[2,0]*H[0,1]+H[0,0]*H[2,1],H[2,0]*H[1,1]+H[1,0]*H[2,1],H[2,0]*H[2,1]])\n",
    "    v11 = np.array([H[0,0]*H[0,0],H[0,0]*H[1,0]+H[1,0]*H[0,0],H[1,0]*H[1,0],\n",
    "                   H[2,0]*H[0,0]+H[0,0]*H[2,0],H[2,0]*H[1,0]+H[1,0]*H[2,0],H[2,0]*H[2,0]])\n",
    "    v22 = np.array([H[0,1]*H[0,1],H[0,1]*H[1,1]+H[1,1]*H[0,1],H[1,1]*H[1,1],\n",
    "                   H[2,1]*H[0,1]+H[0,1]*H[2,1],H[2,1]*H[1,1]+H[1,1]*H[2,1],H[2,1]*H[2,1]])\n",
    "    V = np.vstack([v12,v11-v22])\n",
    "    return V\n",
    "    \n",
    "def estimate_b(Hs):\n",
    "    # Get V\n",
    "    V = make_V(Hs)\n",
    "    _,_,VT = np.linalg.svd(V) # SVD!\n",
    "    # Solution to SVD\n",
    "    b = VT[-1] # b = [B11, B12, B22, B13, B23, B33].T\n",
    "    return b"
   ]
  },
  {
   "cell_type": "code",
   "execution_count": 24,
   "metadata": {},
   "outputs": [
    {
     "name": "stdout",
     "output_type": "stream",
     "text": [
      "[ 0.00000045  0.          0.00000045 -0.00043376 -0.00024399  0.99999988]\n",
      "Relative Error 2.8056052293936012e-18\n",
      "B\n",
      "------------------------------- \n",
      " [[ 0.000001  0.       -0.00096 ]\n",
      " [ 0.        0.000001 -0.00054 ]\n",
      " [-0.00096  -0.00054   2.2132  ]]\n",
      "B_true:\n",
      "-------------------------------\n",
      " [[ 0.000001  0.       -0.00096 ]\n",
      " [ 0.        0.000001 -0.00054 ]\n",
      " [-0.00096  -0.00054   2.2132  ]]\n"
     ]
    }
   ],
   "source": [
    "Btrue = np.linalg.inv(K).T@np.linalg.inv(K)\n",
    "b = estimate_b(Hs)\n",
    "print(b)\n",
    "B11, B12, B22, B13, B23, B33 = b[0], b[1], b[2], b[3], b[4], b[5]\n",
    "B = np.array([[B11, B12, B13],\n",
    "              [B12, B22, B23],\n",
    "              [B13, B23, B33]])\n",
    "B = (B / B[-1][-1]) * Btrue[-1][-1] # Scale the two matrices to same scale\n",
    "print(\"Relative Error\", np.linalg.norm(Btrue-B)/np.linalg.norm(Btrue))\n",
    "print(\"B\\n------------------------------- \\n\",B)\n",
    "print(\"B_true:\\n-------------------------------\\n\",Btrue)"
   ]
  },
  {
   "cell_type": "markdown",
   "metadata": {},
   "source": [
    "#### 4.7 Find K\n",
    "\n",
    "Zhengyou Zhangs algorithm\\\n",
    "https://www.microsoft.com/en-us/research/wp-content/uploads/2016/02/tr98-71.pdf\n",
    "\n",
    "Next, define a function estimateIntrisics(Hs) that takes a list of homographies Hs and returns <br />\n",
    "a camera matrix K. Use your estimate_b from the previous exercise. From b, estimate the <br />\n",
    "camera matrix K (they use A in the paper). Find the solution in Appendix B from the paper\n",
    "\n",
    "\n",
    "- The ith col of H is hi = [h1i, h2i, h3i].T\n",
    "- Then: vij = [hi1 * hj1, hi1 * hj2 + hi2 * hj1, hi2 * hj2,\n",
    "                    hi3 * hj1 + hi1 +hj3, hi3 * hj2 + hi2 * hj3, hi3 * hj3].T\n",
    "    For two coloumns i and j of H.\n",
    "\n",
    "- We do this for all n(=3) images, stacking the v's like this.\n",
    "        \n",
    "```\n",
    "        [[v12.T]\n",
    "        \n",
    "         [(v11 - v22).T]\n",
    "        \n",
    "```\n",
    "    We get one such v for each image, and stack them until we get V.\n",
    "\n",
    "- Then we find B like this: Vb = 0, (9) use SVD!\n",
    "\n",
    "\n",
    "    The solution to (9) is well known as the eigenvector of V.T@V associated with the smallest\n",
    "eigenvalue (equivalently, the right singular vector of V associated with the smallest singular value).\n",
    "\n",
    "- Now, we need K: B = inv(K).T@inv(K), use B to find intrinsic params \\\n",
    "![Appendix_B](Appendix_B.png)\n",
    "\n",
    "- Use these intrinsic parameters to get both R and T! :D"
   ]
  },
  {
   "cell_type": "code",
   "execution_count": 25,
   "metadata": {},
   "outputs": [],
   "source": [
    "def appendix_B(b):\n",
    "    \"\"\"\n",
    "    Once b is estimated, we can use it to find K! (Appendix B!)\n",
    "    https://www.microsoft.com/en-us/research/wp-content/uploads/2016/02/tr98-71.pdf\n",
    "    \"\"\"    \n",
    "    B11, B12, B22, B13, B23, B33 = b[0], b[1], b[2], b[3], b[4], b[5]\n",
    "    v0 = (B12*B13 - B11*B23)/(B11*B22 - B12**2)\n",
    "    lam = B33 - (B13**2 + v0*(B12*B13 - B11*B23))/B11\n",
    "    alpha = np.sqrt(lam/B11)\n",
    "    beta = np.sqrt(lam*B11/(B11*B22 - B12**2))\n",
    "    gamma = B12 * alpha**2 * beta/lam\n",
    "    u0 = (gamma*v0/beta) - (B13 * alpha**2 / lam) \n",
    "    return v0, lam, alpha, beta, gamma, u0\n",
    "\n",
    "def estimateIntrinsics(Hs, verbose=False):\n",
    "    '''\n",
    "    Vb = 0\n",
    "    B = inv(K).T@inv(K)\n",
    "    '''\n",
    "    b_est = estimate_b(Hs)\n",
    "    #b_true = np.array([Btrue[0, 0], Btrue[0, 1], Btrue[1, 1], Btrue[0, 2], Btrue[1, 2], Btrue[2, 2]])\n",
    "    # We can then calcualate all the intrinsic parameters\n",
    "    v0, lam, alpha, beta, gamma, u0 = appendix_B(b_est)\n",
    "    if verbose:\n",
    "        print(\"lambda:\", lam)\n",
    "    #print(v0, lam, alpha, beta, gamma, u0)\n",
    "    K = np.array([[alpha, gamma, u0], [0, beta, v0], [0, 0, 1]])\n",
    "    return K\n",
    "    "
   ]
  },
  {
   "cell_type": "code",
   "execution_count": 43,
   "metadata": {},
   "outputs": [
    {
     "name": "stdout",
     "output_type": "stream",
     "text": [
      "lambda: 0.45183439190302954\n",
      "Zhang's K\n",
      "[[1000    0  960]\n",
      " [   0 1000  539]\n",
      " [   0    0    1]]\n",
      "Real K\n",
      "[[1000    0  960]\n",
      " [   0 1000  540]\n",
      " [   0    0    1]]\n"
     ]
    }
   ],
   "source": [
    "K_est = estimateIntrinsics(Hs, verbose=True)\n",
    "K_est = np.int32(K_est/K_est[0, -1] * K[0, -1])\n",
    "print(\"Zhang's K\")\n",
    "print(K_est)\n",
    "print(\"Real K\")\n",
    "print(K)"
   ]
  },
  {
   "cell_type": "markdown",
   "metadata": {},
   "source": [
    "#### 4.8 Calculate rotation and translation matrices\n",
    "\n",
    "![rot_trans](rot_transl.png)\n",
    "\n",
    "\n",
    "Now, define a function Rs, ts = estimateExtrinsics(K, Hs) that takes the camera matrix K \\\n",
    "and the homographies Hs and returns the rotations Rs and translations ts of each checkerboard. \\\n",
    "Use the formulas given in the paper but you do not need to bother with Appendix C — we can \\\n",
    "live with the error"
   ]
  },
  {
   "cell_type": "code",
   "execution_count": 27,
   "metadata": {},
   "outputs": [],
   "source": [
    "def estimateExtrinsics(K, Hs, verbose=False):\n",
    "    # Extract lambda\n",
    "    #lam = K[-1, -1]\n",
    "    Rs = []\n",
    "    ts = []\n",
    "    \n",
    "    for H in Hs:\n",
    "        lamb = 1/np.linalg.norm(np.linalg.inv(K)@H[:,0],2)\n",
    "        lamb2 = 1/np.linalg.norm(np.linalg.inv(K)@H[:,1],2)\n",
    "        if verbose:\n",
    "            print(\"Lmabda1, Lambda2: \", lamb, lamb2)\n",
    "            print(\"DIFF\", lamb-lamb2,\"\\n---------------------\")\n",
    "\n",
    "        r1 = lamb*np.linalg.inv(K)@H[:,0]\n",
    "        r2 = lamb*np.linalg.inv(K)@H[:,1]\n",
    "        r3 = np.cross(r1,r2)\n",
    "        \n",
    "        ts.append((lamb*np.linalg.inv(K)@H[:,2]).T)\n",
    "        Rs.append(np.vstack([r1,r2,r3]).T)\n",
    "        \n",
    "    return Rs, ts"
   ]
  },
  {
   "cell_type": "code",
   "execution_count": 28,
   "metadata": {},
   "outputs": [
    {
     "name": "stdout",
     "output_type": "stream",
     "text": [
      "Lmabda1, Lambda2:  17.15190869235849 17.14834458700471\n",
      "DIFF 0.0035641053537780465 \n",
      "---------------------\n",
      "Lmabda1, Lambda2:  17.22921969015791 17.229219690157905\n",
      "DIFF 7.105427357601002e-15 \n",
      "---------------------\n",
      "Lmabda1, Lambda2:  17.15190869235849 17.155473382040114\n",
      "DIFF -0.0035646896816246 \n",
      "---------------------\n"
     ]
    }
   ],
   "source": [
    "#Rs, ts = estimateExtrinsics(K, Hs)\n",
    "Rs, ts = estimateExtrinsics(K_est, Hs, verbose=True)"
   ]
  },
  {
   "cell_type": "markdown",
   "metadata": {},
   "source": [
    "Test the rotation and translation matrices"
   ]
  },
  {
   "cell_type": "code",
   "execution_count": 29,
   "metadata": {},
   "outputs": [
    {
     "name": "stdout",
     "output_type": "stream",
     "text": [
      "[[ 1.         -0.95105652 -0.30901699]\n",
      " [ 1.          0.95149353  0.30901699]\n",
      " [-0.          0.43701602 -1.34530604]]\n",
      "[[ 1.         -1.          0.        ]\n",
      " [ 1.          1.          0.        ]\n",
      " [ 0.          0.         -1.41421356]]\n",
      "[[ 1.         -0.95105652  0.30901699]\n",
      " [ 1.          0.9506195  -0.30901699]\n",
      " [ 0.         -0.43701602 -1.34468801]]\n"
     ]
    }
   ],
   "source": [
    "print(Rs[0] / Rs[0][0, 0])\n",
    "print(Rs[1] / Rs[1][0, 0])\n",
    "print(Rs[2] / Rs[2][0, 0])\n"
   ]
  },
  {
   "cell_type": "code",
   "execution_count": 30,
   "metadata": {},
   "outputs": [
    {
     "name": "stdout",
     "output_type": "stream",
     "text": [
      "[[ 1.          0.          0.        ]\n",
      " [ 0.          0.95105652 -0.30901699]\n",
      " [ 0.          0.30901699  0.95105652]]\n",
      "[[1. 0. 0.]\n",
      " [0. 1. 0.]\n",
      " [0. 0. 1.]]\n",
      "[[ 1.         -0.          0.        ]\n",
      " [ 0.          0.95105652  0.30901699]\n",
      " [-0.         -0.30901699  0.95105652]]\n"
     ]
    }
   ],
   "source": [
    "print(Ra)\n",
    "print(Rb)\n",
    "print(Rc)"
   ]
  },
  {
   "cell_type": "markdown",
   "metadata": {},
   "source": [
    "They don't look similar, but could do the same, right?"
   ]
  },
  {
   "cell_type": "code",
   "execution_count": 31,
   "metadata": {},
   "outputs": [],
   "source": [
    "v = np.array([[1, 1, 1]]).T\n",
    "v_rotated_a = Ra@v\n",
    "v_rotated_b = Rb@v\n",
    "v_rotated_c = Rc@v"
   ]
  },
  {
   "cell_type": "code",
   "execution_count": 32,
   "metadata": {},
   "outputs": [],
   "source": [
    "v_rotated_1 = Rs[0]@v\n",
    "v_rotated_2 = Rs[1]@v\n",
    "v_rotated_3 = Rs[2]@v"
   ]
  },
  {
   "cell_type": "code",
   "execution_count": 33,
   "metadata": {},
   "outputs": [
    {
     "data": {
      "image/png": "[encoded data removed]",
      "text/plain": [
       "<Figure size 432x288 with 1 Axes>"
      ]
     },
     "metadata": {
      "needs_background": "light"
     },
     "output_type": "display_data"
    }
   ],
   "source": [
    "\n",
    "origin = np.array([[0, 0, 0],[0, 0, 0]]) # origin point\n",
    "V1 = np.array([v_rotated_a, v_rotated_b, v_rotated_c])\n",
    "V2 = np.array([v_rotated_1, v_rotated_2, v_rotated_3])\n",
    "\n",
    "\n",
    "plt.quiver(*origin, V1[:,1], V1[:,2], color=[\"r\"], scale=5)\n",
    "plt.quiver(*origin, V2[:,1], V2[:,2], color=[\"g\"], scale=5)\n",
    "plt.show()"
   ]
  },
  {
   "cell_type": "markdown",
   "metadata": {},
   "source": [
    "NB! Sometimes the ts has a negative value! This is just some oddity with the pinhole model :D"
   ]
  },
  {
   "cell_type": "code",
   "execution_count": 42,
   "metadata": {},
   "outputs": [
    {
     "name": "stdout",
     "output_type": "stream",
     "text": [
      "Zhang's estimated t for each plane.\n",
      "[[0.         0.00994729 9.94729463]\n",
      " [0.         0.00994729 9.94729463]\n",
      " [0.         0.00994729 9.94729463]]\n",
      "Real t\n",
      "[[ 0  0 10]]\n"
     ]
    }
   ],
   "source": [
    "print(\"Zhang's estimated t for each plane.\")\n",
    "print(np.abs(ts))\n",
    "print(\"Real t\")\n",
    "print(t.T)"
   ]
  },
  {
   "cell_type": "code",
   "execution_count": null,
   "metadata": {},
   "outputs": [],
   "source": []
  },
  {
   "cell_type": "markdown",
   "metadata": {},
   "source": [
    "### The final product:"
   ]
  },
  {
   "cell_type": "code",
   "execution_count": 35,
   "metadata": {},
   "outputs": [],
   "source": [
    "def calibratecamera(qs,Q, verbose=False):\n",
    "    Hs = estimateHomographies(Q,qs)\n",
    "    K = estimateIntrinsics(Hs, verbose=verbose)\n",
    "    Rs, ts = estimateExtrinsics(K,Hs, verbose=verbose)\n",
    "    return K, Rs, ts\n"
   ]
  },
  {
   "cell_type": "code",
   "execution_count": null,
   "metadata": {},
   "outputs": [],
   "source": []
  }
 ],
 "metadata": {
  "interpreter": {
   "hash": "d1902db9bb2e389c5c5f64e693209aef1412f369d132ca57a092e79ab8be655e"
  },
  "kernelspec": {
   "display_name": "Python 3.8.8 64-bit",
   "language": "python",
   "name": "python3"
  },
  "language_info": {
   "codemirror_mode": {
    "name": "ipython",
    "version": 3
   },
   "file_extension": ".py",
   "mimetype": "text/x-python",
   "name": "python",
   "nbconvert_exporter": "python",
   "pygments_lexer": "ipython3",
   "version": "3.8.8"
  },
  "orig_nbformat": 4
 },
 "nbformat": 4,
 "nbformat_minor": 2
}
